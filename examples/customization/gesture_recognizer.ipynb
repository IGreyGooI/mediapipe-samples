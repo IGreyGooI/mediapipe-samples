{
 "cells": [
  {
   "cell_type": "markdown",
   "metadata": {
    "id": "Z-9BpIlqAZci"
   },
   "source": [
    "Project: /mediapipe/_project.yaml\n",
    "Book: /mediapipe/_book.yaml\n",
    "\n",
    "<link rel=\"stylesheet\" href=\"/mediapipe/site.css\">\n",
    "\n",
    "# Hand gesture recognition model customization guide\n",
    "\n",
    "<table align=\"left\" class=\"buttons\">\n",
    "  <td>\n",
    "    <a href=\"https://colab.research.google.com/github/googlesamples/mediapipe/blob/main/examples/customization/gesture_recognizer.ipynb\" target=\"_blank\">\n",
    "      <img src=\"https://developers.google.com/static/mediapipe/solutions/customization/colab-logo-32px_1920.png\" alt=\"Colab logo\"> Run in Colab\n",
    "    </a>\n",
    "  </td>\n",
    "\n",
    "  <td>\n",
    "    <a href=\"https://github.com/googlesamples/mediapipe/blob/main/examples/customization/gesture_recognizer.ipynb\" target=\"_blank\">\n",
    "      <img src=\"https://developers.google.com/static/mediapipe/solutions/customization/github-logo-32px_1920.png\" alt=\"GitHub logo\">\n",
    "      View on GitHub\n",
    "    </a>\n",
    "  </td>\n",
    "</table>"
   ]
  },
  {
   "cell_type": "code",
   "execution_count": 1,
   "metadata": {
    "ExecuteTime": {
     "end_time": "2025-02-12T19:54:19.922801600Z",
     "start_time": "2025-02-12T19:54:19.735323Z"
    },
    "id": "JO1GUwC1_T2x"
   },
   "outputs": [],
   "source": [
    "#@title License information\n",
    "# Copyright 2023 The MediaPipe Authors.\n",
    "# Licensed under the Apache License, Version 2.0 (the \"License\");\n",
    "#\n",
    "# you may not use this file except in compliance with the License.\n",
    "# You may obtain a copy of the License at\n",
    "#\n",
    "# https://www.apache.org/licenses/LICENSE-2.0\n",
    "#\n",
    "# Unless required by applicable law or agreed to in writing, software\n",
    "# distributed under the License is distributed on an \"AS IS\" BASIS,\n",
    "# WITHOUT WARRANTIES OR CONDITIONS OF ANY KIND, either express or implied.\n",
    "# See the License for the specific language governing permissions and\n",
    "# limitations under the License."
   ]
  },
  {
   "cell_type": "markdown",
   "metadata": {
    "id": "wFBcmjzf0JLE"
   },
   "source": [
    "The MediaPipe Model Maker package is a low-code solution for customizing on-device machine learning (ML) Models.\n",
    "\n",
    "This notebook shows the end-to-end process of customizing a gesture recognizer model for recognizing some common hand gestures in the [HaGRID](https://www.kaggle.com/datasets/innominate817/hagrid-sample-30k-384p) dataset."
   ]
  },
  {
   "cell_type": "markdown",
   "metadata": {
    "id": "YGM0PT490LiR"
   },
   "source": [
    "## Prerequisites"
   ]
  },
  {
   "cell_type": "markdown",
   "metadata": {
    "id": "cVVxZNfo0M0y"
   },
   "source": [
    "Install the MediaPipe Model Maker package."
   ]
  },
  {
   "cell_type": "code",
   "execution_count": null,
   "metadata": {
    "ExecuteTime": {
     "end_time": "2025-02-12T20:46:22.488329400Z",
     "start_time": "2025-02-12T20:46:11.986728600Z"
    },
    "id": "6DBLRE-fqlO5"
   },
   "outputs": [
    {
     "name": "stdout",
     "output_type": "stream",
     "text": [
      "Requirement already satisfied: pip in c:\\users\\greygoo\\miniconda3\\lib\\site-packages (23.3.1)"
     ]
    },
    {
     "name": "stderr",
     "output_type": "stream",
     "text": [
      "ERROR: To modify pip, please run the following command:\n",
      "C:\\Users\\greygoo\\miniconda3\\python.exe -m pip install --upgrade pip\n"
     ]
    },
    {
     "name": "stdout",
     "output_type": "stream",
     "text": [
      "\n",
      "Collecting pip\n",
      "  Using cached pip-25.0.1-py3-none-any.whl.metadata (3.7 kB)\n",
      "Using cached pip-25.0.1-py3-none-any.whl (1.8 MB)\n",
      "Requirement already satisfied: mediapipe-model-maker in c:\\users\\greygoo\\miniconda3\\lib\\site-packages (0.1.0.1)\n",
      "Requirement already satisfied: absl-py in c:\\users\\greygoo\\miniconda3\\lib\\site-packages (from mediapipe-model-maker) (1.4.0)\n",
      "Requirement already satisfied: mediapipe>=0.9.0 in c:\\users\\greygoo\\miniconda3\\lib\\site-packages (from mediapipe-model-maker) (0.10.11)\n",
      "Requirement already satisfied: numpy in c:\\users\\greygoo\\miniconda3\\lib\\site-packages (from mediapipe-model-maker) (1.24.3)\n",
      "Requirement already satisfied: opencv-python in c:\\users\\greygoo\\miniconda3\\lib\\site-packages (from mediapipe-model-maker) (4.11.0.86)\n",
      "Requirement already satisfied: tensorflow>=2.10 in c:\\users\\greygoo\\miniconda3\\lib\\site-packages (from mediapipe-model-maker) (2.10.1)\n",
      "Requirement already satisfied: tensorflow-datasets in c:\\users\\greygoo\\miniconda3\\lib\\site-packages (from mediapipe-model-maker) (4.9.0)\n",
      "Requirement already satisfied: tensorflow-hub in c:\\users\\greygoo\\miniconda3\\lib\\site-packages (from mediapipe-model-maker) (0.16.1)\n",
      "Requirement already satisfied: tf-models-official>=2.10.1 in c:\\users\\greygoo\\miniconda3\\lib\\site-packages (from mediapipe-model-maker) (2.10.1)\n",
      "Requirement already satisfied: attrs>=19.1.0 in c:\\users\\greygoo\\miniconda3\\lib\\site-packages (from mediapipe>=0.9.0->mediapipe-model-maker) (24.2.0)\n",
      "Requirement already satisfied: flatbuffers>=2.0 in c:\\users\\greygoo\\miniconda3\\lib\\site-packages (from mediapipe>=0.9.0->mediapipe-model-maker) (25.2.10)\n",
      "Requirement already satisfied: jax in c:\\users\\greygoo\\miniconda3\\lib\\site-packages (from mediapipe>=0.9.0->mediapipe-model-maker) (0.4.30)\n",
      "Requirement already satisfied: matplotlib in c:\\users\\greygoo\\miniconda3\\lib\\site-packages (from mediapipe>=0.9.0->mediapipe-model-maker) (3.9.4)\n",
      "Requirement already satisfied: opencv-contrib-python in c:\\users\\greygoo\\miniconda3\\lib\\site-packages (from mediapipe>=0.9.0->mediapipe-model-maker) (4.11.0.86)\n",
      "Requirement already satisfied: protobuf<4,>=3.11 in c:\\users\\greygoo\\miniconda3\\lib\\site-packages (from mediapipe>=0.9.0->mediapipe-model-maker) (3.19.6)\n",
      "Requirement already satisfied: sounddevice>=0.4.4 in c:\\users\\greygoo\\miniconda3\\lib\\site-packages (from mediapipe>=0.9.0->mediapipe-model-maker) (0.5.1)\n",
      "Requirement already satisfied: astunparse>=1.6.0 in c:\\users\\greygoo\\miniconda3\\lib\\site-packages (from tensorflow>=2.10->mediapipe-model-maker) (1.6.3)\n",
      "Requirement already satisfied: gast<=0.4.0,>=0.2.1 in c:\\users\\greygoo\\miniconda3\\lib\\site-packages (from tensorflow>=2.10->mediapipe-model-maker) (0.4.0)\n",
      "Requirement already satisfied: google-pasta>=0.1.1 in c:\\users\\greygoo\\miniconda3\\lib\\site-packages (from tensorflow>=2.10->mediapipe-model-maker) (0.2.0)\n",
      "Requirement already satisfied: h5py>=2.9.0 in c:\\users\\greygoo\\miniconda3\\lib\\site-packages (from tensorflow>=2.10->mediapipe-model-maker) (3.12.1)\n",
      "Requirement already satisfied: keras-preprocessing>=1.1.1 in c:\\users\\greygoo\\miniconda3\\lib\\site-packages (from tensorflow>=2.10->mediapipe-model-maker) (1.1.2)\n",
      "Requirement already satisfied: libclang>=13.0.0 in c:\\users\\greygoo\\miniconda3\\lib\\site-packages (from tensorflow>=2.10->mediapipe-model-maker) (18.1.1)\n",
      "Requirement already satisfied: opt-einsum>=2.3.2 in c:\\users\\greygoo\\miniconda3\\lib\\site-packages (from tensorflow>=2.10->mediapipe-model-maker) (3.4.0)\n",
      "Requirement already satisfied: packaging in c:\\users\\greygoo\\miniconda3\\lib\\site-packages (from tensorflow>=2.10->mediapipe-model-maker) (24.2)\n",
      "Requirement already satisfied: setuptools in c:\\users\\greygoo\\miniconda3\\lib\\site-packages (from tensorflow>=2.10->mediapipe-model-maker) (68.2.2)\n",
      "Requirement already satisfied: six>=1.12.0 in c:\\users\\greygoo\\miniconda3\\lib\\site-packages (from tensorflow>=2.10->mediapipe-model-maker) (1.16.0)\n",
      "Requirement already satisfied: termcolor>=1.1.0 in c:\\users\\greygoo\\miniconda3\\lib\\site-packages (from tensorflow>=2.10->mediapipe-model-maker) (2.5.0)\n",
      "Requirement already satisfied: typing-extensions>=3.6.6 in c:\\users\\greygoo\\miniconda3\\lib\\site-packages (from tensorflow>=2.10->mediapipe-model-maker) (4.12.2)\n",
      "Requirement already satisfied: wrapt>=1.11.0 in c:\\users\\greygoo\\miniconda3\\lib\\site-packages (from tensorflow>=2.10->mediapipe-model-maker) (1.17.2)\n",
      "Requirement already satisfied: tensorflow-io-gcs-filesystem>=0.23.1 in c:\\users\\greygoo\\miniconda3\\lib\\site-packages (from tensorflow>=2.10->mediapipe-model-maker) (0.31.0)\n",
      "Requirement already satisfied: grpcio<2.0,>=1.24.3 in c:\\users\\greygoo\\miniconda3\\lib\\site-packages (from tensorflow>=2.10->mediapipe-model-maker) (1.70.0)\n",
      "Requirement already satisfied: tensorboard<2.11,>=2.10 in c:\\users\\greygoo\\miniconda3\\lib\\site-packages (from tensorflow>=2.10->mediapipe-model-maker) (2.10.1)\n",
      "Requirement already satisfied: tensorflow-estimator<2.11,>=2.10.0 in c:\\users\\greygoo\\miniconda3\\lib\\site-packages (from tensorflow>=2.10->mediapipe-model-maker) (2.10.0)\n",
      "Requirement already satisfied: keras<2.11,>=2.10.0 in c:\\users\\greygoo\\miniconda3\\lib\\site-packages (from tensorflow>=2.10->mediapipe-model-maker) (2.10.0)\n",
      "Requirement already satisfied: Cython in c:\\users\\greygoo\\miniconda3\\lib\\site-packages (from tf-models-official>=2.10.1->mediapipe-model-maker) (3.0.12)\n",
      "Requirement already satisfied: Pillow in c:\\users\\greygoo\\miniconda3\\lib\\site-packages (from tf-models-official>=2.10.1->mediapipe-model-maker) (9.3.0)\n",
      "Requirement already satisfied: gin-config in c:\\users\\greygoo\\miniconda3\\lib\\site-packages (from tf-models-official>=2.10.1->mediapipe-model-maker) (0.5.0)\n",
      "Requirement already satisfied: google-api-python-client>=1.6.7 in c:\\users\\greygoo\\miniconda3\\lib\\site-packages (from tf-models-official>=2.10.1->mediapipe-model-maker) (2.160.0)\n",
      "Requirement already satisfied: immutabledict in c:\\users\\greygoo\\miniconda3\\lib\\site-packages (from tf-models-official>=2.10.1->mediapipe-model-maker) (4.2.1)\n",
      "Requirement already satisfied: kaggle>=1.3.9 in c:\\users\\greygoo\\miniconda3\\lib\\site-packages (from tf-models-official>=2.10.1->mediapipe-model-maker) (1.6.17)\n",
      "Requirement already satisfied: oauth2client in c:\\users\\greygoo\\miniconda3\\lib\\site-packages (from tf-models-official>=2.10.1->mediapipe-model-maker) (4.1.3)\n",
      "Requirement already satisfied: opencv-python-headless in c:\\users\\greygoo\\miniconda3\\lib\\site-packages (from tf-models-official>=2.10.1->mediapipe-model-maker) (4.11.0.86)\n",
      "Requirement already satisfied: pandas>=0.22.0 in c:\\users\\greygoo\\miniconda3\\lib\\site-packages (from tf-models-official>=2.10.1->mediapipe-model-maker) (2.2.3)\n",
      "Requirement already satisfied: psutil>=5.4.3 in c:\\users\\greygoo\\miniconda3\\lib\\site-packages (from tf-models-official>=2.10.1->mediapipe-model-maker) (5.9.0)\n",
      "Requirement already satisfied: py-cpuinfo>=3.3.0 in c:\\users\\greygoo\\miniconda3\\lib\\site-packages (from tf-models-official>=2.10.1->mediapipe-model-maker) (9.0.0)\n",
      "Requirement already satisfied: pycocotools in c:\\users\\greygoo\\miniconda3\\lib\\site-packages (from tf-models-official>=2.10.1->mediapipe-model-maker) (2.0.8)\n",
      "Requirement already satisfied: pyyaml<6.0,>=5.1 in c:\\users\\greygoo\\miniconda3\\lib\\site-packages (from tf-models-official>=2.10.1->mediapipe-model-maker) (5.4.1)\n",
      "Requirement already satisfied: sacrebleu==2.2.0 in c:\\users\\greygoo\\miniconda3\\lib\\site-packages (from tf-models-official>=2.10.1->mediapipe-model-maker) (2.2.0)\n",
      "Requirement already satisfied: scipy>=0.19.1 in c:\\users\\greygoo\\miniconda3\\lib\\site-packages (from tf-models-official>=2.10.1->mediapipe-model-maker) (1.13.1)\n",
      "Requirement already satisfied: sentencepiece in c:\\users\\greygoo\\miniconda3\\lib\\site-packages (from tf-models-official>=2.10.1->mediapipe-model-maker) (0.2.0)\n",
      "Requirement already satisfied: seqeval in c:\\users\\greygoo\\miniconda3\\lib\\site-packages (from tf-models-official>=2.10.1->mediapipe-model-maker) (1.2.2)\n",
      "Requirement already satisfied: tensorflow-addons in c:\\users\\greygoo\\miniconda3\\lib\\site-packages (from tf-models-official>=2.10.1->mediapipe-model-maker) (0.22.0)\n",
      "Requirement already satisfied: tensorflow-model-optimization>=0.4.1 in c:\\users\\greygoo\\miniconda3\\lib\\site-packages (from tf-models-official>=2.10.1->mediapipe-model-maker) (0.8.0)\n",
      "Requirement already satisfied: tensorflow-text~=2.10.0 in c:\\users\\greygoo\\miniconda3\\lib\\site-packages (from tf-models-official>=2.10.1->mediapipe-model-maker) (2.10.0)\n",
      "Requirement already satisfied: tf-slim>=1.1.0 in c:\\users\\greygoo\\miniconda3\\lib\\site-packages (from tf-models-official>=2.10.1->mediapipe-model-maker) (1.1.0)\n",
      "Requirement already satisfied: portalocker in c:\\users\\greygoo\\miniconda3\\lib\\site-packages (from sacrebleu==2.2.0->tf-models-official>=2.10.1->mediapipe-model-maker) (3.1.1)\n",
      "Requirement already satisfied: regex in c:\\users\\greygoo\\miniconda3\\lib\\site-packages (from sacrebleu==2.2.0->tf-models-official>=2.10.1->mediapipe-model-maker) (2024.11.6)\n",
      "Requirement already satisfied: tabulate>=0.8.9 in c:\\users\\greygoo\\miniconda3\\lib\\site-packages (from sacrebleu==2.2.0->tf-models-official>=2.10.1->mediapipe-model-maker) (0.9.0)\n",
      "Requirement already satisfied: colorama in c:\\users\\greygoo\\miniconda3\\lib\\site-packages (from sacrebleu==2.2.0->tf-models-official>=2.10.1->mediapipe-model-maker) (0.4.6)\n",
      "Requirement already satisfied: lxml in c:\\users\\greygoo\\miniconda3\\lib\\site-packages (from sacrebleu==2.2.0->tf-models-official>=2.10.1->mediapipe-model-maker) (5.3.1)\n",
      "Requirement already satisfied: tf-keras>=2.14.1 in c:\\users\\greygoo\\miniconda3\\lib\\site-packages (from tensorflow-hub->mediapipe-model-maker) (2.15.0)\n",
      "Requirement already satisfied: array-record in c:\\users\\greygoo\\miniconda3\\lib\\site-packages (from tensorflow-datasets->mediapipe-model-maker) (0.4.1)\n",
      "Requirement already satisfied: click in c:\\users\\greygoo\\miniconda3\\lib\\site-packages (from tensorflow-datasets->mediapipe-model-maker) (8.1.7)\n",
      "Requirement already satisfied: dm-tree in c:\\users\\greygoo\\miniconda3\\lib\\site-packages (from tensorflow-datasets->mediapipe-model-maker) (0.1.8)\n",
      "Requirement already satisfied: etils>=0.9.0 in c:\\users\\greygoo\\miniconda3\\lib\\site-packages (from etils[enp,epath]>=0.9.0->tensorflow-datasets->mediapipe-model-maker) (1.5.2)\n",
      "Requirement already satisfied: promise in c:\\users\\greygoo\\miniconda3\\lib\\site-packages (from tensorflow-datasets->mediapipe-model-maker) (2.3)\n",
      "Requirement already satisfied: requests>=2.19.0 in c:\\users\\greygoo\\miniconda3\\lib\\site-packages (from tensorflow-datasets->mediapipe-model-maker) (2.31.0)\n",
      "Requirement already satisfied: tensorflow-metadata in c:\\users\\greygoo\\miniconda3\\lib\\site-packages (from tensorflow-datasets->mediapipe-model-maker) (1.13.0)\n",
      "Requirement already satisfied: toml in c:\\users\\greygoo\\miniconda3\\lib\\site-packages (from tensorflow-datasets->mediapipe-model-maker) (0.10.2)\n",
      "Requirement already satisfied: tqdm in c:\\users\\greygoo\\miniconda3\\lib\\site-packages (from tensorflow-datasets->mediapipe-model-maker) (4.67.1)\n",
      "Requirement already satisfied: wheel<1.0,>=0.23.0 in c:\\users\\greygoo\\miniconda3\\lib\\site-packages (from astunparse>=1.6.0->tensorflow>=2.10->mediapipe-model-maker) (0.41.2)\n",
      "Requirement already satisfied: fsspec in c:\\users\\greygoo\\miniconda3\\lib\\site-packages (from etils[enp,epath]>=0.9.0->tensorflow-datasets->mediapipe-model-maker) (2025.2.0)\n",
      "Requirement already satisfied: importlib_resources in c:\\users\\greygoo\\miniconda3\\lib\\site-packages (from etils[enp,epath]>=0.9.0->tensorflow-datasets->mediapipe-model-maker) (6.5.2)\n",
      "Requirement already satisfied: zipp in c:\\users\\greygoo\\miniconda3\\lib\\site-packages (from etils[enp,epath]>=0.9.0->tensorflow-datasets->mediapipe-model-maker) (3.21.0)\n",
      "Requirement already satisfied: httplib2<1.dev0,>=0.19.0 in c:\\users\\greygoo\\miniconda3\\lib\\site-packages (from google-api-python-client>=1.6.7->tf-models-official>=2.10.1->mediapipe-model-maker) (0.22.0)\n",
      "Requirement already satisfied: google-auth!=2.24.0,!=2.25.0,<3.0.0.dev0,>=1.32.0 in c:\\users\\greygoo\\miniconda3\\lib\\site-packages (from google-api-python-client>=1.6.7->tf-models-official>=2.10.1->mediapipe-model-maker) (2.38.0)\n",
      "Requirement already satisfied: google-auth-httplib2<1.0.0,>=0.2.0 in c:\\users\\greygoo\\miniconda3\\lib\\site-packages (from google-api-python-client>=1.6.7->tf-models-official>=2.10.1->mediapipe-model-maker) (0.2.0)\n",
      "Requirement already satisfied: google-api-core!=2.0.*,!=2.1.*,!=2.2.*,!=2.3.0,<3.0.0.dev0,>=1.31.5 in c:\\users\\greygoo\\miniconda3\\lib\\site-packages (from google-api-python-client>=1.6.7->tf-models-official>=2.10.1->mediapipe-model-maker) (2.24.1)\n",
      "Requirement already satisfied: uritemplate<5,>=3.0.1 in c:\\users\\greygoo\\miniconda3\\lib\\site-packages (from google-api-python-client>=1.6.7->tf-models-official>=2.10.1->mediapipe-model-maker) (4.1.1)\n",
      "Requirement already satisfied: certifi>=2023.7.22 in c:\\users\\greygoo\\miniconda3\\lib\\site-packages (from kaggle>=1.3.9->tf-models-official>=2.10.1->mediapipe-model-maker) (2025.1.31)\n",
      "Requirement already satisfied: python-dateutil in c:\\users\\greygoo\\miniconda3\\lib\\site-packages (from kaggle>=1.3.9->tf-models-official>=2.10.1->mediapipe-model-maker) (2.9.0.post0)\n",
      "Requirement already satisfied: python-slugify in c:\\users\\greygoo\\miniconda3\\lib\\site-packages (from kaggle>=1.3.9->tf-models-official>=2.10.1->mediapipe-model-maker) (8.0.4)\n",
      "Requirement already satisfied: urllib3 in c:\\users\\greygoo\\miniconda3\\lib\\site-packages (from kaggle>=1.3.9->tf-models-official>=2.10.1->mediapipe-model-maker) (2.1.0)\n",
      "Requirement already satisfied: bleach in c:\\users\\greygoo\\miniconda3\\lib\\site-packages (from kaggle>=1.3.9->tf-models-official>=2.10.1->mediapipe-model-maker) (6.2.0)\n",
      "Requirement already satisfied: pytz>=2020.1 in c:\\users\\greygoo\\miniconda3\\lib\\site-packages (from pandas>=0.22.0->tf-models-official>=2.10.1->mediapipe-model-maker) (2025.1)\n",
      "Requirement already satisfied: tzdata>=2022.7 in c:\\users\\greygoo\\miniconda3\\lib\\site-packages (from pandas>=0.22.0->tf-models-official>=2.10.1->mediapipe-model-maker) (2025.1)\n",
      "Requirement already satisfied: charset-normalizer<4,>=2 in c:\\users\\greygoo\\miniconda3\\lib\\site-packages (from requests>=2.19.0->tensorflow-datasets->mediapipe-model-maker) (2.0.4)\n",
      "Requirement already satisfied: idna<4,>=2.5 in c:\\users\\greygoo\\miniconda3\\lib\\site-packages (from requests>=2.19.0->tensorflow-datasets->mediapipe-model-maker) (3.4)\n",
      "Requirement already satisfied: CFFI>=1.0 in c:\\users\\greygoo\\miniconda3\\lib\\site-packages (from sounddevice>=0.4.4->mediapipe>=0.9.0->mediapipe-model-maker) (1.16.0)\n",
      "Requirement already satisfied: google-auth-oauthlib<0.5,>=0.4.1 in c:\\users\\greygoo\\miniconda3\\lib\\site-packages (from tensorboard<2.11,>=2.10->tensorflow>=2.10->mediapipe-model-maker) (0.4.6)\n",
      "Requirement already satisfied: markdown>=2.6.8 in c:\\users\\greygoo\\miniconda3\\lib\\site-packages (from tensorboard<2.11,>=2.10->tensorflow>=2.10->mediapipe-model-maker) (3.7)\n",
      "Requirement already satisfied: tensorboard-data-server<0.7.0,>=0.6.0 in c:\\users\\greygoo\\miniconda3\\lib\\site-packages (from tensorboard<2.11,>=2.10->tensorflow>=2.10->mediapipe-model-maker) (0.6.1)\n",
      "Requirement already satisfied: tensorboard-plugin-wit>=1.6.0 in c:\\users\\greygoo\\miniconda3\\lib\\site-packages (from tensorboard<2.11,>=2.10->tensorflow>=2.10->mediapipe-model-maker) (1.8.1)\n",
      "Requirement already satisfied: werkzeug>=1.0.1 in c:\\users\\greygoo\\miniconda3\\lib\\site-packages (from tensorboard<2.11,>=2.10->tensorflow>=2.10->mediapipe-model-maker) (3.1.3)\n",
      "Requirement already satisfied: jaxlib<=0.4.30,>=0.4.27 in c:\\users\\greygoo\\miniconda3\\lib\\site-packages (from jax->mediapipe>=0.9.0->mediapipe-model-maker) (0.4.30)\n",
      "Requirement already satisfied: ml-dtypes>=0.2.0 in c:\\users\\greygoo\\miniconda3\\lib\\site-packages (from jax->mediapipe>=0.9.0->mediapipe-model-maker) (0.5.1)\n",
      "Requirement already satisfied: importlib-metadata>=4.6 in c:\\users\\greygoo\\miniconda3\\lib\\site-packages (from jax->mediapipe>=0.9.0->mediapipe-model-maker) (8.5.0)\n",
      "Requirement already satisfied: contourpy>=1.0.1 in c:\\users\\greygoo\\miniconda3\\lib\\site-packages (from matplotlib->mediapipe>=0.9.0->mediapipe-model-maker) (1.3.0)\n",
      "Requirement already satisfied: cycler>=0.10 in c:\\users\\greygoo\\miniconda3\\lib\\site-packages (from matplotlib->mediapipe>=0.9.0->mediapipe-model-maker) (0.12.1)\n",
      "Requirement already satisfied: fonttools>=4.22.0 in c:\\users\\greygoo\\miniconda3\\lib\\site-packages (from matplotlib->mediapipe>=0.9.0->mediapipe-model-maker) (4.56.0)\n",
      "Requirement already satisfied: kiwisolver>=1.3.1 in c:\\users\\greygoo\\miniconda3\\lib\\site-packages (from matplotlib->mediapipe>=0.9.0->mediapipe-model-maker) (1.4.7)\n",
      "Requirement already satisfied: pyparsing>=2.3.1 in c:\\users\\greygoo\\miniconda3\\lib\\site-packages (from matplotlib->mediapipe>=0.9.0->mediapipe-model-maker) (3.2.1)\n",
      "Requirement already satisfied: pyasn1>=0.1.7 in c:\\users\\greygoo\\miniconda3\\lib\\site-packages (from oauth2client->tf-models-official>=2.10.1->mediapipe-model-maker) (0.6.1)\n",
      "Requirement already satisfied: pyasn1-modules>=0.0.5 in c:\\users\\greygoo\\miniconda3\\lib\\site-packages (from oauth2client->tf-models-official>=2.10.1->mediapipe-model-maker) (0.4.1)\n",
      "Requirement already satisfied: rsa>=3.1.4 in c:\\users\\greygoo\\miniconda3\\lib\\site-packages (from oauth2client->tf-models-official>=2.10.1->mediapipe-model-maker) (4.9)\n",
      "Requirement already satisfied: scikit-learn>=0.21.3 in c:\\users\\greygoo\\miniconda3\\lib\\site-packages (from seqeval->tf-models-official>=2.10.1->mediapipe-model-maker) (1.6.1)\n",
      "Requirement already satisfied: typeguard<3.0.0,>=2.7 in c:\\users\\greygoo\\miniconda3\\lib\\site-packages (from tensorflow-addons->tf-models-official>=2.10.1->mediapipe-model-maker) (2.13.3)\n",
      "Requirement already satisfied: googleapis-common-protos<2,>=1.52.0 in c:\\users\\greygoo\\miniconda3\\lib\\site-packages (from tensorflow-metadata->tensorflow-datasets->mediapipe-model-maker) (1.63.1)\n",
      "Requirement already satisfied: pycparser in c:\\users\\greygoo\\miniconda3\\lib\\site-packages (from CFFI>=1.0->sounddevice>=0.4.4->mediapipe>=0.9.0->mediapipe-model-maker) (2.21)\n",
      "Requirement already satisfied: proto-plus<2.0.0dev,>=1.22.3 in c:\\users\\greygoo\\miniconda3\\lib\\site-packages (from google-api-core!=2.0.*,!=2.1.*,!=2.2.*,!=2.3.0,<3.0.0.dev0,>=1.31.5->google-api-python-client>=1.6.7->tf-models-official>=2.10.1->mediapipe-model-maker) (1.26.0)\n",
      "Requirement already satisfied: cachetools<6.0,>=2.0.0 in c:\\users\\greygoo\\miniconda3\\lib\\site-packages (from google-auth!=2.24.0,!=2.25.0,<3.0.0.dev0,>=1.32.0->google-api-python-client>=1.6.7->tf-models-official>=2.10.1->mediapipe-model-maker) (5.5.1)\n",
      "Requirement already satisfied: requests-oauthlib>=0.7.0 in c:\\users\\greygoo\\miniconda3\\lib\\site-packages (from google-auth-oauthlib<0.5,>=0.4.1->tensorboard<2.11,>=2.10->tensorflow>=2.10->mediapipe-model-maker) (2.0.0)\n",
      "Requirement already satisfied: joblib>=1.2.0 in c:\\users\\greygoo\\miniconda3\\lib\\site-packages (from scikit-learn>=0.21.3->seqeval->tf-models-official>=2.10.1->mediapipe-model-maker) (1.4.2)\n",
      "Requirement already satisfied: threadpoolctl>=3.1.0 in c:\\users\\greygoo\\miniconda3\\lib\\site-packages (from scikit-learn>=0.21.3->seqeval->tf-models-official>=2.10.1->mediapipe-model-maker) (3.5.0)\n",
      "Requirement already satisfied: MarkupSafe>=2.1.1 in c:\\users\\greygoo\\miniconda3\\lib\\site-packages (from werkzeug>=1.0.1->tensorboard<2.11,>=2.10->tensorflow>=2.10->mediapipe-model-maker) (2.1.2)\n",
      "Requirement already satisfied: webencodings in c:\\users\\greygoo\\miniconda3\\lib\\site-packages (from bleach->kaggle>=1.3.9->tf-models-official>=2.10.1->mediapipe-model-maker) (0.5.1)\n",
      "Requirement already satisfied: pywin32>=226 in c:\\users\\greygoo\\miniconda3\\lib\\site-packages (from portalocker->sacrebleu==2.2.0->tf-models-official>=2.10.1->mediapipe-model-maker) (305.1)\n",
      "Requirement already satisfied: text-unidecode>=1.3 in c:\\users\\greygoo\\miniconda3\\lib\\site-packages (from python-slugify->kaggle>=1.3.9->tf-models-official>=2.10.1->mediapipe-model-maker) (1.3)\n",
      "Requirement already satisfied: oauthlib>=3.0.0 in c:\\users\\greygoo\\miniconda3\\lib\\site-packages (from requests-oauthlib>=0.7.0->google-auth-oauthlib<0.5,>=0.4.1->tensorboard<2.11,>=2.10->tensorflow>=2.10->mediapipe-model-maker) (3.2.2)\n"
     ]
    }
   ],
   "source": [
    "%pip install --upgrade pip\n",
    "%pip install mediapipe-model-maker"
   ]
  },
  {
   "cell_type": "markdown",
   "metadata": {
    "id": "v3CvTNmB1WiY"
   },
   "source": [
    "Import the required libraries."
   ]
  },
  {
   "cell_type": "code",
   "execution_count": 1,
   "metadata": {
    "ExecuteTime": {
     "end_time": "2025-02-12T19:54:47.624423900Z",
     "start_time": "2025-02-12T19:54:47.571171400Z"
    },
    "id": "c74UL9oI0VKU"
   },
   "outputs": [
    {
     "ename": "ModuleNotFoundError",
     "evalue": "No module named 'tensorflow'",
     "output_type": "error",
     "traceback": [
      "\u001b[1;31m---------------------------------------------------------------------------\u001b[0m",
      "\u001b[1;31mModuleNotFoundError\u001b[0m                       Traceback (most recent call last)",
      "Cell \u001b[1;32mIn[1], line 3\u001b[0m\n\u001b[0;32m      1\u001b[0m \u001b[38;5;66;03m# from google.colab import files\u001b[39;00m\n\u001b[0;32m      2\u001b[0m \u001b[38;5;28;01mimport\u001b[39;00m\u001b[38;5;250m \u001b[39m\u001b[38;5;21;01mos\u001b[39;00m\n\u001b[1;32m----> 3\u001b[0m \u001b[38;5;28;01mimport\u001b[39;00m\u001b[38;5;250m \u001b[39m\u001b[38;5;21;01mtensorflow\u001b[39;00m\u001b[38;5;250m \u001b[39m\u001b[38;5;28;01mas\u001b[39;00m\u001b[38;5;250m \u001b[39m\u001b[38;5;21;01mtf\u001b[39;00m\n\u001b[0;32m      4\u001b[0m \u001b[38;5;28;01massert\u001b[39;00m tf\u001b[38;5;241m.\u001b[39m__version__\u001b[38;5;241m.\u001b[39mstartswith(\u001b[38;5;124m'\u001b[39m\u001b[38;5;124m2\u001b[39m\u001b[38;5;124m'\u001b[39m)\n\u001b[0;32m      6\u001b[0m \u001b[38;5;28;01mfrom\u001b[39;00m\u001b[38;5;250m \u001b[39m\u001b[38;5;21;01mmediapipe_model_maker\u001b[39;00m\u001b[38;5;250m \u001b[39m\u001b[38;5;28;01mimport\u001b[39;00m gesture_recognizer\n",
      "\u001b[1;31mModuleNotFoundError\u001b[0m: No module named 'tensorflow'"
     ]
    }
   ],
   "source": [
    "# from google.colab import files\n",
    "import os\n",
    "import tensorflow as tf\n",
    "assert tf.__version__.startswith('2')\n",
    "\n",
    "from mediapipe_model_maker import gesture_recognizer\n",
    "\n",
    "import matplotlib.pyplot as plt"
   ]
  },
  {
   "cell_type": "markdown",
   "metadata": {
    "id": "IppoENBmAuFn"
   },
   "source": [
    "## Simple End-to-End Example\n",
    "\n",
    "This end-to-end example uses Model Maker to customize a model for on-device gesture recognition."
   ]
  },
  {
   "cell_type": "markdown",
   "metadata": {
    "id": "i8fMLXTdD6tW"
   },
   "source": [
    "### Get the dataset"
   ]
  },
  {
   "cell_type": "markdown",
   "metadata": {
    "id": "7TwDFilngzjs"
   },
   "source": [
    "The dataset for gesture recognition in model maker requires the following format: `<dataset_path>/<label_name>/<img_name>.*`. In addition, one of the label names (`label_names`) must be `none`. The `none` label represents any gesture that isn't classified as one of the other gestures.\n",
    "\n",
    "This example uses a rock paper scissors dataset sample which is downloaded from GCS."
   ]
  },
  {
   "cell_type": "code",
   "execution_count": null,
   "metadata": {
    "ExecuteTime": {
     "start_time": "2025-02-12T19:54:35.913201500Z"
    },
    "id": "6dwmyg5MnR_y"
   },
   "outputs": [],
   "source": [
    "!wget https://storage.googleapis.com/mediapipe-tasks/gesture_recognizer/rps_data_sample.zip\n",
    "!unzip rps_data_sample.zip\n",
    "dataset_path = \"rps_data_sample\""
   ]
  },
  {
   "cell_type": "markdown",
   "metadata": {
    "id": "iiWb9Tu3lBBI"
   },
   "source": [
    "Verify the rock paper scissors dataset by printing the labels. There should be 4 gesture labels, with one of them being the `none` gesture."
   ]
  },
  {
   "cell_type": "code",
   "execution_count": null,
   "metadata": {
    "ExecuteTime": {
     "start_time": "2025-02-12T19:54:35.914474700Z"
    },
    "id": "QgadM4VDj3Y2"
   },
   "outputs": [],
   "source": [
    "print(dataset_path)\n",
    "labels = []\n",
    "for i in os.listdir(dataset_path):\n",
    "  if os.path.isdir(os.path.join(dataset_path, i)):\n",
    "    labels.append(i)\n",
    "print(labels)"
   ]
  },
  {
   "cell_type": "markdown",
   "metadata": {
    "id": "CA0o59OMjqmV"
   },
   "source": [
    "To better understand the dataset, plot a couple of example images for each gesture."
   ]
  },
  {
   "cell_type": "code",
   "execution_count": null,
   "metadata": {
    "ExecuteTime": {
     "start_time": "2025-02-12T19:54:35.916574300Z"
    },
    "id": "sx8PsrwYjvgO"
   },
   "outputs": [],
   "source": [
    "NUM_EXAMPLES = 5\n",
    "\n",
    "for label in labels:\n",
    "  label_dir = os.path.join(dataset_path, label)\n",
    "  example_filenames = os.listdir(label_dir)[:NUM_EXAMPLES]\n",
    "  fig, axs = plt.subplots(1, NUM_EXAMPLES, figsize=(10,2))\n",
    "  for i in range(NUM_EXAMPLES):\n",
    "    axs[i].imshow(plt.imread(os.path.join(label_dir, example_filenames[i])))\n",
    "    axs[i].get_xaxis().set_visible(False)\n",
    "    axs[i].get_yaxis().set_visible(False)\n",
    "  fig.suptitle(f'Showing {NUM_EXAMPLES} examples for {label}')\n",
    "\n",
    "plt.show()"
   ]
  },
  {
   "cell_type": "markdown",
   "metadata": {
    "id": "sWXwEXSXlg7d"
   },
   "source": [
    "### Run the example\n",
    "The workflow consists of 4 steps which have been separated into their own code blocks."
   ]
  },
  {
   "cell_type": "markdown",
   "metadata": {
    "id": "OF9ArLQXIu25"
   },
   "source": [
    "**Load the dataset**\n",
    "\n",
    "Load the dataset located at `dataset_path` by using the `Dataset.from_folder` method. When loading the dataset, run the pre-packaged hand detection model from MediaPipe Hands to detect the hand landmarks from the images. Any images without detected hands are ommitted from the dataset. The resulting dataset will contain the extracted hand landmark positions from each image, rather than images themselves.\n",
    "\n",
    "The `HandDataPreprocessingParams` class contains two configurable options for the data loading process:\n",
    "* `shuffle`: A boolean controlling whether to shuffle the dataset. Defaults to true.\n",
    "* `min_detection_confidence`: A float between 0 and 1 controlling the confidence threshold for hand detection.\n",
    "\n",
    "Split the dataset: 80% for training, 10% for validation, and 10% for testing."
   ]
  },
  {
   "cell_type": "code",
   "execution_count": null,
   "metadata": {
    "ExecuteTime": {
     "start_time": "2025-02-12T19:54:35.918178600Z"
    },
    "id": "aTTNZsolKXiT"
   },
   "outputs": [],
   "source": [
    "data = gesture_recognizer.Dataset.from_folder(\n",
    "    dirname=dataset_path,\n",
    "    hparams=gesture_recognizer.HandDataPreprocessingParams()\n",
    ")\n",
    "train_data, rest_data = data.split(0.8)\n",
    "validation_data, test_data = rest_data.split(0.5)"
   ]
  },
  {
   "cell_type": "markdown",
   "metadata": {
    "id": "ndTh_ZyEIeKV"
   },
   "source": [
    "**Train the model**"
   ]
  },
  {
   "cell_type": "markdown",
   "metadata": {
    "id": "yAXWc3bv8hpe"
   },
   "source": [
    "Train the custom gesture recognizer by using the create method and passing in the training data, validation data, model options, and hyperparameters. For more information on model options and hyperparameters, see the [Hyperparameters](#hyperparameters) section below."
   ]
  },
  {
   "cell_type": "code",
   "execution_count": null,
   "metadata": {
    "ExecuteTime": {
     "start_time": "2025-02-12T19:54:35.920041400Z"
    },
    "id": "yk0UiRB6NZrb"
   },
   "outputs": [],
   "source": [
    "hparams = gesture_recognizer.HParams(export_dir=\"exported_model\")\n",
    "options = gesture_recognizer.GestureRecognizerOptions(hparams=hparams)\n",
    "model = gesture_recognizer.GestureRecognizer.create(\n",
    "    train_data=train_data,\n",
    "    validation_data=validation_data,\n",
    "    options=options\n",
    ")"
   ]
  },
  {
   "cell_type": "markdown",
   "metadata": {
    "id": "nED7mdIO9YS6"
   },
   "source": [
    "**Evaluate the model performance**\n",
    "\n",
    "After training the model, evaluate it on a test dataset and print the loss and accuracy metrics."
   ]
  },
  {
   "cell_type": "code",
   "execution_count": null,
   "metadata": {
    "ExecuteTime": {
     "start_time": "2025-02-12T19:54:35.922018300Z"
    },
    "id": "OdOqllqx9YKy"
   },
   "outputs": [],
   "source": [
    "loss, acc = model.evaluate(test_data, batch_size=1)\n",
    "print(f\"Test loss:{loss}, Test accuracy:{acc}\")"
   ]
  },
  {
   "cell_type": "markdown",
   "metadata": {
    "id": "vJLramjy9gvy"
   },
   "source": [
    "**Export to Tensorflow Lite Model**\n",
    "\n",
    "After creating the model, convert and export it to a Tensorflow Lite model format for later use on an on-device application. The export also includes model metadata, which includes the label file."
   ]
  },
  {
   "cell_type": "code",
   "execution_count": null,
   "metadata": {
    "ExecuteTime": {
     "start_time": "2025-02-12T19:54:35.923532900Z"
    },
    "id": "fmNaFXytijVg"
   },
   "outputs": [],
   "source": [
    "model.export_model()\n",
    "!ls exported_model"
   ]
  },
  {
   "cell_type": "code",
   "execution_count": null,
   "metadata": {
    "ExecuteTime": {
     "start_time": "2025-02-12T19:54:35.927527100Z"
    },
    "id": "7yfN_47qjjOC"
   },
   "outputs": [],
   "source": [
    "# files.download('exported_model/gesture_recognizer.task')"
   ]
  },
  {
   "cell_type": "markdown",
   "metadata": {
    "id": "ulqyNGmTCKeU"
   },
   "source": [
    "## Run the model on-device\n",
    "\n",
    "To use the TFLite model for on-device usage through MediaPipe Tasks, refer to the Gesture Recognizer [overview page](https://developers.google.com/mediapipe/solutions/vision/gesture_recognizer)."
   ]
  },
  {
   "cell_type": "markdown",
   "metadata": {
    "id": "F1tiLGGRcvhy"
   },
   "source": [
    "## Hyperparameters {:#hyperparameters}\n"
   ]
  },
  {
   "cell_type": "markdown",
   "metadata": {
    "id": "f1UMEG85hQL_"
   },
   "source": [
    "You can further customize the model using the `GestureRecognizerOptions` class, which has two optional parameters for `ModelOptions` and `HParams`. Use the `ModelOptions` class to customize parameters related to the model itself, and the `HParams` class to customize other parameters related to training and saving the model.\n",
    "\n",
    "`ModelOptions` has one customizable parameter that affects accuracy:\n",
    "* `dropout_rate`: The fraction of the input units to drop. Used in dropout layer. Defaults to 0.05.\n",
    "* `layer_widths`: A list of hidden layer widths for the gesture model. Each element in the list will create a new hidden layer with the specified width. The hidden layers are separated with BatchNorm, Dropout, and ReLU. Defaults to an empty list(no hidden layers).\n",
    "\n",
    "`HParams` has the following list of customizable parameters which affect model accuracy:\n",
    "* `learning_rate`: The learning rate to use for gradient descent training. Defaults to 0.001.\n",
    "* `batch_size`: Batch size for training. Defaults to 2.\n",
    "* `epochs`: Number of training iterations over the dataset. Defaults to 10.\n",
    "* `steps_per_epoch`: An optional integer that indicates the number of training steps per epoch. If not set, the training pipeline calculates the default steps per epoch as the training dataset size divided by batch size.\n",
    "* `shuffle`: True if the dataset is shuffled before training. Defaults to False.\n",
    "* `lr_decay`: Learning rate decay to use for gradient descent training. Defaults to 0.99.\n",
    "* `gamma`: Gamma parameter for focal loss. Defaults to 2\n",
    "\n",
    "Additional `HParams` parameter that does not affect model accuracy:\n",
    "* `export_dir`: The location of the model checkpoint files and exported model files."
   ]
  },
  {
   "cell_type": "markdown",
   "metadata": {
    "id": "psvVZeSYBLfV"
   },
   "source": [
    "For example, the following trains a new model with the dropout_rate of 0.2 and learning rate of 0.003."
   ]
  },
  {
   "cell_type": "code",
   "execution_count": null,
   "metadata": {
    "ExecuteTime": {
     "start_time": "2025-02-12T19:54:35.928527700Z"
    },
    "id": "CxMOI8o6iNLu"
   },
   "outputs": [],
   "source": [
    "hparams = gesture_recognizer.HParams(learning_rate=0.003, export_dir=\"exported_model_2\")\n",
    "model_options = gesture_recognizer.ModelOptions(dropout_rate=0.2)\n",
    "options = gesture_recognizer.GestureRecognizerOptions(model_options=model_options, hparams=hparams)\n",
    "model_2 = gesture_recognizer.GestureRecognizer.create(\n",
    "    train_data=train_data,\n",
    "    validation_data=validation_data,\n",
    "    options=options\n",
    ")"
   ]
  },
  {
   "cell_type": "markdown",
   "metadata": {
    "id": "3cekuTJiBbv9"
   },
   "source": [
    "Evaluate the newly trained model."
   ]
  },
  {
   "cell_type": "code",
   "execution_count": null,
   "metadata": {
    "ExecuteTime": {
     "start_time": "2025-02-12T19:54:35.930528600Z"
    },
    "id": "RRH96bm-BbAo"
   },
   "outputs": [],
   "source": [
    "loss, accuracy = model_2.evaluate(test_data)\n",
    "print(f\"Test loss:{loss}, Test accuracy:{accuracy}\")"
   ]
  }
 ],
 "metadata": {
  "colab": {
   "last_runtime": {
    "build_target": "",
    "kind": "local"
   },
   "private_outputs": true,
   "provenance": []
  },
  "kernelspec": {
   "display_name": ".venv",
   "language": "python",
   "name": "python3"
  },
  "language_info": {
   "codemirror_mode": {
    "name": "ipython",
    "version": 3
   },
   "file_extension": ".py",
   "mimetype": "text/x-python",
   "name": "python",
   "nbconvert_exporter": "python",
   "pygments_lexer": "ipython3",
   "version": "3.13.2"
  }
 },
 "nbformat": 4,
 "nbformat_minor": 0
}
